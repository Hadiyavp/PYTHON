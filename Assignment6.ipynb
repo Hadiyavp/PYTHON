{
 "cells": [
  {
   "cell_type": "code",
   "execution_count": 2,
   "id": "80c0da33",
   "metadata": {},
   "outputs": [
    {
     "name": "stdout",
     "output_type": "stream",
     "text": [
      "Enter a number:4\n",
      "Factorial is 24\n"
     ]
    }
   ],
   "source": [
    "#Factorial of any number\n",
    "import math\n",
    "n=int(input(\"Enter a number:\"))\n",
    "f=1\n",
    "i=1\n",
    "while(i<=n):\n",
    "    f=f*i\n",
    "    i=i+1\n",
    "print(\"Factorial is\",f)"
   ]
  },
  {
   "cell_type": "code",
   "execution_count": 3,
   "id": "5c75a635",
   "metadata": {},
   "outputs": [
    {
     "name": "stdout",
     "output_type": "stream",
     "text": [
      "Enter a limit:10\n",
      "Fibonacci series:\n",
      "\n",
      "0\n",
      "1\n",
      "1\n",
      "2\n",
      "3\n",
      "5\n",
      "8\n",
      "13\n",
      "21\n",
      "34\n",
      "55\n"
     ]
    }
   ],
   "source": [
    "#Fibonacci Series\n",
    "n=int(input(\"Enter a limit:\"))\n",
    "first=1\n",
    "second=0\n",
    "print(\"Fibonacci series:\\n\")\n",
    "print(second)\n",
    "i=1\n",
    "while(i<=n):\n",
    "    r=first+second\n",
    "    print(r)\n",
    "    first=second\n",
    "    second=r\n",
    "    i=i+1\n"
   ]
  },
  {
   "cell_type": "code",
   "execution_count": 1,
   "id": "cdfffd76",
   "metadata": {},
   "outputs": [
    {
     "name": "stdout",
     "output_type": "stream",
     "text": [
      "Enter first number:24\n",
      "Enter second number:36\n",
      "GCD of 24 and 36 is 12\n"
     ]
    }
   ],
   "source": [
    "#GCD of two integers\n",
    "import math\n",
    "a=int(input(\"Enter first number:\"))\n",
    "b=int(input(\"Enter second number:\"))\n",
    "if(a>b):\n",
    "    c=b\n",
    "else:\n",
    "    c=a\n",
    "while(c>0):\n",
    "    if(a%c==0)and(b%c==0):\n",
    "        print(\"GCD of\",a,\"and\",b,\"is\",c)\n",
    "        break;\n",
    "    c=c-1"
   ]
  },
  {
   "cell_type": "code",
   "execution_count": 2,
   "id": "6ca0e938",
   "metadata": {},
   "outputs": [
    {
     "name": "stdout",
     "output_type": "stream",
     "text": [
      "Enter a list:12345\n",
      "Sum of the elements in the list ['1', '2', '3', '4', '5'] = 15\n"
     ]
    }
   ],
   "source": [
    "#Sum of all terms in a list\n",
    "l=list(input(\"Enter a list:\"))\n",
    "l1=len(l)\n",
    "a=0\n",
    "i=0\n",
    "for i in range(l1):\n",
    "    b=int(l[i])\n",
    "    a=a+b\n",
    "print(\"Sum of the elements in the list\",l,\"=\",a)"
   ]
  },
  {
   "cell_type": "code",
   "execution_count": 4,
   "id": "33cb6b2a",
   "metadata": {},
   "outputs": [
    {
     "name": "stdout",
     "output_type": "stream",
     "text": [
      "Enter number seperated by comas:2,4,6,8\n",
      "Tuples ('2', '4', '6', '8')\n",
      "Average value of the number in given tuple: 5.0\n"
     ]
    }
   ],
   "source": [
    "#Avg of tuple\n",
    "t=tuple(input(\"Enter number seperated by comas:\").split(\",\"))\n",
    "print(\"Tuples\",t)\n",
    "l=len(t)\n",
    "c=0\n",
    "for i in range(l):\n",
    "    c=int(t[i])+c\n",
    "    avg=c/l\n",
    "print(\"Average value of the number in given tuple:\",avg)"
   ]
  },
  {
   "cell_type": "code",
   "execution_count": 6,
   "id": "0a94d161",
   "metadata": {},
   "outputs": [
    {
     "name": "stdout",
     "output_type": "stream",
     "text": [
      "Enter a string:hadiya\n",
      "h is repeated 1 times\n",
      "a is repeated 2 times\n",
      "d is repeated 1 times\n",
      "i is repeated 1 times\n",
      "y is repeated 1 times\n"
     ]
    }
   ],
   "source": [
    "#Frequency of characters in a string\n",
    "s=input(\"Enter a string:\")\n",
    "f={}\n",
    "for i in s:\n",
    "    if i in f:\n",
    "        f[i]=f[i]+1\n",
    "    else:\n",
    "        f[i]=1\n",
    "for keys,value in f.items():\n",
    "    print(keys,\"is repeated\",value,\"times\")\n"
   ]
  },
  {
   "cell_type": "code",
   "execution_count": null,
   "id": "e5e5e56f",
   "metadata": {},
   "outputs": [],
   "source": []
  }
 ],
 "metadata": {
  "kernelspec": {
   "display_name": "Python 3 (ipykernel)",
   "language": "python",
   "name": "python3"
  },
  "language_info": {
   "codemirror_mode": {
    "name": "ipython",
    "version": 3
   },
   "file_extension": ".py",
   "mimetype": "text/x-python",
   "name": "python",
   "nbconvert_exporter": "python",
   "pygments_lexer": "ipython3",
   "version": "3.10.12"
  }
 },
 "nbformat": 4,
 "nbformat_minor": 5
}
