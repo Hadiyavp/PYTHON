{
 "cells": [
  {
   "cell_type": "code",
   "execution_count": 2,
   "id": "b16090a2",
   "metadata": {},
   "outputs": [
    {
     "name": "stdout",
     "output_type": "stream",
     "text": [
      "Enter name: rochu\n",
      "Enter key value: 22\n",
      "Enter name: lina\n",
      "Enter key value: 23\n",
      "Enter name: afi\n",
      "Enter key value: 20\n",
      "dictoinory= {'rochu': '22', 'lina': '23', 'afi': '20'}\n",
      "Ascending order= {'afi': '20', 'lina': '23', 'rochu': '22'}\n",
      "Descending order= {'rochu': '22', 'lina': '23', 'afi': '20'}\n"
     ]
    }
   ],
   "source": [
    "#sorting in ascending and descending\n",
    "dic={}\n",
    "for i in range(3):\n",
    "    name = input(\"Enter name: \")\n",
    "    key = input(\"Enter key value: \")\n",
    "    dic[name] = key\n",
    "print(\"dictoinory=\",dic)\n",
    "ascend=sorted(dic.items())\n",
    "new_dict = dict(ascend)\n",
    "print(\"Ascending order=\",new_dict)\n",
    "\n",
    "\n",
    "descend = dict(sorted(dic.items(),  reverse = True))\n",
    "print(\"Descending order=\",descend)"
   ]
  },
  {
   "cell_type": "code",
   "execution_count": 3,
   "id": "6b837dff",
   "metadata": {},
   "outputs": [
    {
     "name": "stdout",
     "output_type": "stream",
     "text": [
      "enter the name :nadhu\n",
      "enter the age:21\n",
      "first dictionary is: {'name': 'nadhu', 'age': '21'}\n",
      "enter the color:red\n",
      "enter the flower name:rose\n",
      "second dictionary is: {'color': 'red', 'flower': 'rose'}\n",
      "merge dictionary is {'name': 'nadhu', 'age': '21', 'color': 'red', 'flower': 'rose'}\n"
     ]
    }
   ],
   "source": [
    "#Merge 2 dictionaries\n",
    "d1={}\n",
    "name=input(\"enter the name :\")\n",
    "age=input(\"enter the age:\")\n",
    "d1['name']=name\n",
    "d1['age']=age\n",
    "print(\"first dictionary is:\",d1)\n",
    "d2={}\n",
    "color=input(\"enter the color:\")\n",
    "flower=input(\"enter the flower name:\")\n",
    "d2['color']=color\n",
    "d2['flower']=flower\n",
    "print(\"second dictionary is:\",d2)\n",
    "d3=d1\n",
    "d1.update(d2)\n",
    "print(\"merge dictionary is\",d3)"
   ]
  },
  {
   "cell_type": "code",
   "execution_count": null,
   "id": "ba6649d4",
   "metadata": {},
   "outputs": [],
   "source": []
  }
 ],
 "metadata": {
  "kernelspec": {
   "display_name": "Python 3 (ipykernel)",
   "language": "python",
   "name": "python3"
  },
  "language_info": {
   "codemirror_mode": {
    "name": "ipython",
    "version": 3
   },
   "file_extension": ".py",
   "mimetype": "text/x-python",
   "name": "python",
   "nbconvert_exporter": "python",
   "pygments_lexer": "ipython3",
   "version": "3.10.12"
  }
 },
 "nbformat": 4,
 "nbformat_minor": 5
}
