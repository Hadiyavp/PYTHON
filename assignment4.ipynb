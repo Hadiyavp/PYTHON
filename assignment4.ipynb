{
 "cells": [
  {
   "cell_type": "code",
   "execution_count": 19,
   "id": "0fe78b63",
   "metadata": {},
   "outputs": [
    {
     "name": "stdout",
     "output_type": "stream",
     "text": [
      "enter numbers:10,20,30,40\n",
      "List: ['10', '20', '30', '40']\n"
     ]
    }
   ],
   "source": [
    "#create a list\n",
    "n=input(\"enter numbers:\")\n",
    "p=n.split(\",\")\n",
    "print(\"List:\",p)\n"
   ]
  },
  {
   "cell_type": "code",
   "execution_count": 18,
   "id": "407597a9",
   "metadata": {},
   "outputs": [
    {
     "name": "stdout",
     "output_type": "stream",
     "text": [
      "first_color: red\n",
      "last_color: yellow\n"
     ]
    }
   ],
   "source": [
    "#diplay the first and last colour\n",
    "n=[\"red\",\"black\",\"green\",\"yellow\"]\n",
    "first_color=n[0]\n",
    "last_color=n[3]\n",
    "print(\"first_color:\", first_color)\n",
    "print(\"last_color:\", last_color)\n",
    "\n",
    "\n"
   ]
  },
  {
   "cell_type": "code",
   "execution_count": 24,
   "id": "53eb810f",
   "metadata": {},
   "outputs": [
    {
     "name": "stdout",
     "output_type": "stream",
     "text": [
      "Enter a file name:assignment.py\n",
      "List: ['assignment', 'py']\n"
     ]
    }
   ],
   "source": [
    "#file extention\n",
    "n=input(\"Enter a file name:\")\n",
    "p=n.split(\".\")\n",
    "print(\"List:\",p)\n"
   ]
  },
  {
   "cell_type": "code",
   "execution_count": null,
   "id": "9bd2bd62",
   "metadata": {},
   "outputs": [],
   "source": [
    "\n"
   ]
  },
  {
   "cell_type": "code",
   "execution_count": null,
   "id": "8a50c523",
   "metadata": {},
   "outputs": [],
   "source": []
  }
 ],
 "metadata": {
  "kernelspec": {
   "display_name": "Python 3 (ipykernel)",
   "language": "python",
   "name": "python3"
  },
  "language_info": {
   "codemirror_mode": {
    "name": "ipython",
    "version": 3
   },
   "file_extension": ".py",
   "mimetype": "text/x-python",
   "name": "python",
   "nbconvert_exporter": "python",
   "pygments_lexer": "ipython3",
   "version": "3.10.12"
  }
 },
 "nbformat": 4,
 "nbformat_minor": 5
}

