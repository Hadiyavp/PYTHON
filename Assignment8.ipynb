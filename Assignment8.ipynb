{
 "cells": [
  {
   "cell_type": "code",
   "execution_count": 1,
   "id": "a5a04c03",
   "metadata": {},
   "outputs": [
    {
     "name": "stdout",
     "output_type": "stream",
     "text": [
      "Enter the elements:2345678\n",
      "tuple before reversing: ('2', '3', '4', '5', '6', '7', '8')\n",
      "reversed tuple: ('8', '7', '6', '5', '4', '3', '2')\n"
     ]
    }
   ],
   "source": [
    "#Reverse a tuple\n",
    "t1=tuple(input(\"Enter the elements:\"))\n",
    "print(\"tuple before reversing:\",t1)\n",
    "t2=tuple(reversed(t1))\n",
    "print(\"reversed tuple:\",t2)"
   ]
  },
  {
   "cell_type": "code",
   "execution_count": 18,
   "id": "e1b8a218",
   "metadata": {},
   "outputs": [
    {
     "name": "stdout",
     "output_type": "stream",
     "text": [
      "Enter number seperated by comas:2,3,4,5\n",
      "Tuples ('2', '3', '4', '5')\n",
      "Average value of the number in given tuple: 3.5\n"
     ]
    }
   ],
   "source": [
    "#Avg of tuple\n",
    "t=tuple(input(\"Enter number seperated by comas:\").split(\",\"))\n",
    "print(\"Tuples\",t)\n",
    "l=len(t)\n",
    "c=0\n",
    "for i in range(l):\n",
    "    c=int(t[i])+c\n",
    "    avg=c/l\n",
    "print(\"Average value of the number in given tuple:\",avg)"
   ]
  },
  {
   "cell_type": "code",
   "execution_count": 19,
   "id": "dfd5bed2",
   "metadata": {},
   "outputs": [
    {
     "name": "stdout",
     "output_type": "stream",
     "text": [
      "Enter Number Separated By Commas: 2,4,7,8\n",
      "Tuples:  ('2', '4', '7', '8')\n",
      "Enter the item to be Removed:8\n",
      "('2', '4', '7')\n"
     ]
    }
   ],
   "source": [
    "#Remove an item from tuple \n",
    "t=tuple(input(\"Enter Number Separated By Commas: \").split(\",\"))\n",
    "tn=list(t)\n",
    "print(\"Tuples: \",t)\n",
    "d=input(\"Enter the item to be Removed:\")\n",
    "for x in t:\n",
    "    if d in x:\n",
    "        tn.remove(x)\n",
    "        result=tuple(tn)\n",
    "print(result)"
   ]
  },
  {
   "cell_type": "code",
   "execution_count": 20,
   "id": "ef73f506",
   "metadata": {},
   "outputs": [
    {
     "name": "stdout",
     "output_type": "stream",
     "text": [
      "Enter Number Separated By Commas: 2,3,4,5,6\n",
      "Tuples:  ('2', '3', '4', '5', '6')\n",
      "3rd Element in tuple:  4\n",
      "3rd last Element in tuple:  4\n"
     ]
    }
   ],
   "source": [
    "#third & 3rd last element of tuple\n",
    "t=tuple(input(\"Enter Number Separated By Commas: \").split(\",\"))\n",
    "print(\"Tuples: \",t)\n",
    "print(\"3rd Element in tuple: \",t[2])\n",
    "print(\"3rd last Element in tuple: \",t[-3])\n"
   ]
  },
  {
   "cell_type": "code",
   "execution_count": null,
   "id": "ed7bdd89",
   "metadata": {},
   "outputs": [],
   "source": []
  }
 ],
 "metadata": {
  "kernelspec": {
   "display_name": "Python 3 (ipykernel)",
   "language": "python",
   "name": "python3"
  },
  "language_info": {
   "codemirror_mode": {
    "name": "ipython",
    "version": 3
   },
   "file_extension": ".py",
   "mimetype": "text/x-python",
   "name": "python",
   "nbconvert_exporter": "python",
   "pygments_lexer": "ipython3",
   "version": "3.10.12"
  }
 },
 "nbformat": 4,
 "nbformat_minor": 5
}
