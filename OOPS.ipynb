{
 "cells": [
  {
   "cell_type": "code",
   "execution_count": 5,
   "id": "eb8702fd",
   "metadata": {},
   "outputs": [
    {
     "name": "stdout",
     "output_type": "stream",
     "text": [
      "Enter length of Rectangle 1: 10\n",
      "Enter breadth of Rectangle 1:8\n",
      "Enter length of Rectangle 2:13\n",
      "Enter breadth of Rectangle 2:5\n",
      "Rectangle 1 is greater\n"
     ]
    }
   ],
   "source": [
    "class rectangle(): \n",
    "    def get(self,l,b):\n",
    "        self.l=l\n",
    "        self.b=b\n",
    "    def area(self,l,b):\n",
    "        return l*b \n",
    "    def perimeter(self,l,b):\n",
    "        return 2*(l+b)\n",
    "r1=rectangle()\n",
    "r2=rectangle()\n",
    "l1=int(input(\"Enter length of Rectangle 1: \"))\n",
    "b1=int(input(\"Enter breadth of Rectangle 1:\"))\n",
    "l2=int(input(\"Enter length of Rectangle 2:\"))\n",
    "b2=int(input(\"Enter breadth of Rectangle 2:\"))\n",
    "p=r1.area(l1,b1)\n",
    "q=r2.area(l2,b2)\n",
    "if(p>q):\n",
    "    print(\"Rectangle 1 is greater\")\n",
    "elif(p<q):\n",
    "    print(\"Rectagle 2 is greater\")\n",
    "else:\n",
    "    print(\"Rectangles are equal\")"
   ]
  },
  {
   "cell_type": "code",
   "execution_count": 6,
   "id": "71bb5a02",
   "metadata": {},
   "outputs": [
    {
     "name": "stdout",
     "output_type": "stream",
     "text": [
      "Enter name: Hadiya\n",
      "Enter account number: 1238764\n",
      "Enter account type: savings\n",
      "Enter initial balance: 0\n",
      "1. Deposit 2. Withdraw 3. Account info 4.Exit\n",
      " Choose your option: 3\n",
      "Account holder Name:  Hadiya\n",
      "Account Number:  1238764\n",
      "Account Type:  savings\n",
      "Account Balance:  0\n",
      "1. Deposit 2. Withdraw 3. Account info 4.Exit\n",
      " Choose your option: 1\n",
      "Deposit amount: 20000\n",
      "Initial balance:  0\n",
      "20000 is deposited\n",
      "current balance:  20000\n",
      "1. Deposit 2. Withdraw 3. Account info 4.Exit\n",
      " Choose your option: 2\n",
      "Withdraw amount: 1000\n",
      "Initial balance:  20000\n",
      "1000  is withdrawed\n",
      "Current balance:  19000\n",
      "1. Deposit 2. Withdraw 3. Account info 4.Exit\n",
      " Choose your option: 4\n",
      "Exiting...\n"
     ]
    }
   ],
   "source": [
    "class bankaccount:\n",
    "    def __init__(self,a_name, a_no,a_type,a_balance):\n",
    "        self.acc_name=a_name\n",
    "        self.acc_no=a_no\n",
    "        self.acc_type=a_type\n",
    "        self.acc_balance=a_balance\n",
    "    def deposit(self,a_deposit):\n",
    "        print(\"Initial balance: \",self.acc_balance)\n",
    "        self.acc_balance+=a_deposit\n",
    "        print(a_deposit, \"is deposited\")\n",
    "        print(\"current balance: \",self.acc_balance)\n",
    "    def withdraw(self):\n",
    "        self.amount=int(input(\"Withdraw amount: \"))\n",
    "        print(\"Initial balance: \",self.acc_balance)\n",
    "        if self.amount > self.acc_balance:\n",
    "            print(\"You don't have enough balance to withdraw !!\")\n",
    "            print(\"Current balance: \",self.acc_balance)\n",
    "        else:\n",
    "            print(self.amount,\" is withdrawed\")\n",
    "            self.acc_balance-=self.amount\n",
    "            print(\"Current balance: \",self.acc_balance)\n",
    "    def acc_info(self):\n",
    "            print(\"Account holder Name: \", self.acc_name)\n",
    "            print(\"Account Number: \", self.acc_no)\n",
    "            print(\"Account Type: \", self.acc_type)\n",
    "            print(\"Account Balance: \", self.acc_balance)\n",
    "name=input(\"Enter name: \")\n",
    "no=int(input(\"Enter account number: \"))\n",
    "typ=input(\"Enter account type: \")\n",
    "bal=int(input(\"Enter initial balance: \"))\n",
    "holder=bankaccount(name,no,typ,bal)\n",
    "while(True):\n",
    "    ch=int(input(\"1. Deposit 2. Withdraw 3. Account info 4.Exit\\n Choose your option: \"))\n",
    "    if ch==1:\n",
    "        amount=int(input(\"Deposit amount: \"))\n",
    "        holder.deposit(amount)\n",
    "    elif ch==2:\n",
    "        holder.withdraw()\n",
    "    elif ch==3:\n",
    "         holder.acc_info()\n",
    "    else:\n",
    "        print(\"Exiting...\")\n",
    "        break\n"
   ]
  },
  {
   "cell_type": "code",
   "execution_count": null,
   "id": "19a9b80a",
   "metadata": {},
   "outputs": [],
   "source": []
  }
 ],
 "metadata": {
  "kernelspec": {
   "display_name": "Python 3 (ipykernel)",
   "language": "python",
   "name": "python3"
  },
  "language_info": {
   "codemirror_mode": {
    "name": "ipython",
    "version": 3
   },
   "file_extension": ".py",
   "mimetype": "text/x-python",
   "name": "python",
   "nbconvert_exporter": "python",
   "pygments_lexer": "ipython3",
   "version": "3.11.5"
  }
 },
 "nbformat": 4,
 "nbformat_minor": 5
}
