{
 "cells": [
  {
   "cell_type": "code",
   "execution_count": 2,
   "id": "9fa050fd",
   "metadata": {},
   "outputs": [
    {
     "name": "stdout",
     "output_type": "stream",
     "text": [
      "enter the radius of the circle:25\n",
      "the area of thr circle is= 1963.4954084936207\n"
     ]
    }
   ],
   "source": [
    "#area of a circle\n",
    "from math import pi\n",
    "a=float(input(\"enter the radius of the circle:\"))\n",
    "area=(pi*a*a)\n",
    "print(\"the area of thr circle is=\",area)"
   ]
  },
  {
   "cell_type": "code",
   "execution_count": 4,
   "id": "a30229ae",
   "metadata": {},
   "outputs": [
    {
     "name": "stdout",
     "output_type": "stream",
     "text": [
      "enter the degree celsius:50\n",
      "The fahrenheit is= 532.0\n"
     ]
    }
   ],
   "source": [
    "#degree celcius\n",
    "a=int(input(\"enter the degree celsius:\"))\n",
    "f=(a*a/5)+32\n",
    "print(\"The fahrenheit is=\",f)"
   ]
  },
  {
   "cell_type": "code",
   "execution_count": 5,
   "id": "5d1262b0",
   "metadata": {},
   "outputs": [
    {
     "name": "stdout",
     "output_type": "stream",
     "text": [
      "enter the kilometers300\n",
      "miles= 186.4113\n"
     ]
    }
   ],
   "source": [
    "#kilometers\n",
    "a=float(input(\"enter the kilometers\"))\n",
    "b=(a*0.621371)\n",
    "print(\"miles=\",b)"
   ]
  },
  {
   "cell_type": "code",
   "execution_count": 27,
   "id": "0932a621",
   "metadata": {},
   "outputs": [
    {
     "name": "stdout",
     "output_type": "stream",
     "text": [
      "enter the first number:20\n",
      "enter the second number:10\n",
      "The greatest number is= 20\n"
     ]
    }
   ],
   "source": [
    "#greatest of two nubers\n",
    "a=int(input(\"enter the first number:\"))\n",
    "b=int(input(\"enter the second number:\"))\n",
    "if a<b:\n",
    "    print(\"The greatest number is=\",b)\n",
    "else:\n",
    "     print(\"The greatest number is=\",a)"
   ]
  },
  {
   "cell_type": "code",
   "execution_count": null,
   "id": "12272328",
   "metadata": {},
   "outputs": [],
   "source": []
  },
  {
   "cell_type": "code",
   "execution_count": null,
   "id": "aaf48196",
   "metadata": {},
   "outputs": [],
   "source": []
  }
 ],
 "metadata": {
  "kernelspec": {
   "display_name": "Python 3 (ipykernel)",
   "language": "python",
   "name": "python3"
  },
  "language_info": {
   "codemirror_mode": {
    "name": "ipython",
    "version": 3
   },
   "file_extension": ".py",
   "mimetype": "text/x-python",
   "name": "python",
   "nbconvert_exporter": "python",
   "pygments_lexer": "ipython3",
   "version": "3.10.12"
  }
 },
 "nbformat": 4,
 "nbformat_minor": 5
}
