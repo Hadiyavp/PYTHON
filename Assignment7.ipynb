{
 "cells": [
  {
   "cell_type": "code",
   "execution_count": 3,
   "id": "9e77d826",
   "metadata": {},
   "outputs": [
    {
     "name": "stdout",
     "output_type": "stream",
     "text": [
      "Enter a number:5\n",
      "1 \n",
      "\n",
      "2 4 \n",
      "\n",
      "3 6 9 \n",
      "\n",
      "4 8 12 16 \n",
      "\n",
      "5 10 15 20 25 \n",
      "\n"
     ]
    }
   ],
   "source": [
    "#Number pyramid\n",
    "n=int(input(\"Enter a number:\"))\n",
    "for i in range(1,n+1):\n",
    "    for j in range(1,i+1):\n",
    "        print(i*j,end=\" \")\n",
    "    print(\"\\n\")"
   ]
  },
  {
   "cell_type": "code",
   "execution_count": 4,
   "id": "60f5355a",
   "metadata": {},
   "outputs": [
    {
     "name": "stdout",
     "output_type": "stream",
     "text": [
      "* \n",
      "\n",
      "* * \n",
      "\n",
      "* * * \n",
      "\n",
      "* * * * \n",
      "\n",
      "* * * * * \n",
      "\n",
      "* * * * \n",
      "\n",
      "* * * \n",
      "\n",
      "* * \n",
      "\n",
      "* \n",
      "\n"
     ]
    }
   ],
   "source": [
    "#Pattern of * using nested loop\n",
    "for i in range(0,4):\n",
    "    for j in range(0,i+1):\n",
    "        print(\"*\",end=\" \")\n",
    "    print(\"\\n\")\n",
    "for i in range(4,-1,-1):\n",
    "    for j in range(0,i+1):\n",
    "        print(\"*\",end=\" \")\n",
    "    print(\"\\n\")"
   ]
  },
  {
   "cell_type": "code",
   "execution_count": null,
   "id": "909cec70",
   "metadata": {},
   "outputs": [],
   "source": []
  },
  {
   "cell_type": "code",
   "execution_count": null,
   "id": "ef67e0f4",
   "metadata": {},
   "outputs": [],
   "source": []
  }
 ],
 "metadata": {
  "kernelspec": {
   "display_name": "Python 3 (ipykernel)",
   "language": "python",
   "name": "python3"
  },
  "language_info": {
   "codemirror_mode": {
    "name": "ipython",
    "version": 3
   },
   "file_extension": ".py",
   "mimetype": "text/x-python",
   "name": "python",
   "nbconvert_exporter": "python",
   "pygments_lexer": "ipython3",
   "version": "3.10.12"
  }
 },
 "nbformat": 4,
 "nbformat_minor": 5
}
