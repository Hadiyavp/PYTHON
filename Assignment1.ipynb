{
 "cells": [
  {
   "cell_type": "code",
   "execution_count": 4,
   "id": "913b73b3",
   "metadata": {},
   "outputs": [
    {
     "name": "stdout",
     "output_type": "stream",
     "text": [
      "enter the side:3\n",
      "area of the square= 9\n"
     ]
    }
   ],
   "source": [
    "a=int(input(\"enter the side:\"))\n",
    "area=a*a\n",
    "print(\"area of the square=\",area)"
   ]
  },
  {
   "cell_type": "code",
   "execution_count": 6,
   "id": "222709ec",
   "metadata": {},
   "outputs": [
    {
     "name": "stdout",
     "output_type": "stream",
     "text": [
      "enter the base of triangle:8\n",
      "enter the height of the triangle:12\n",
      "area of the right angled triangle= 48.0\n"
     ]
    }
   ],
   "source": [
    "p=int(input(\"enter the base of triangle:\"))\n",
    "q=int(input(\"enter the height of the triangle:\"))\n",
    "area=(p*q)/2\n",
    "print(\"area of the right angled triangle=\",area)"
   ]
  },
  {
   "cell_type": "code",
   "execution_count": 8,
   "id": "71f4fe97",
   "metadata": {},
   "outputs": [
    {
     "name": "stdout",
     "output_type": "stream",
     "text": [
      "enter the value of num:20\n",
      "previous number= 19\n",
      "next number= 21\n"
     ]
    }
   ],
   "source": [
    "num=int(input(\"enter the value of num:\"))\n",
    "print(\"previous number=\",num-1)\n",
    "print(\"next number=\",num+1)"
   ]
  },
  {
   "cell_type": "code",
   "execution_count": 13,
   "id": "8c9e2594",
   "metadata": {},
   "outputs": [
    {
     "name": "stdout",
     "output_type": "stream",
     "text": [
      "enter the value of n:1\n",
      " 1 + 11 + 111 = 123\n"
     ]
    }
   ],
   "source": [
    "n=int(input(\"enter the value of n:\"))\n",
    "a=n\n",
    "b=n*10+n\n",
    "c=n*110+n \n",
    "print(\"\",a,\"+\",b,\"+\",c,\"=\",a+b+c)"
   ]
  },
  {
   "cell_type": "code",
   "execution_count": 15,
   "id": "bc28bfdc",
   "metadata": {},
   "outputs": [
    {
     "name": "stdout",
     "output_type": "stream",
     "text": [
      "enter the principle amount:2500\n",
      "enter the interest:400000\n",
      "enter the number of years:5\n",
      "enter simple interest: 1500.0\n"
     ]
    }
   ],
   "source": [
    "p=int(input(\"enter the principle amount:\"))\n",
    "r=int(input(\"enter the interest:\"))\n",
    "n=int(input(\"enter the number of years:\"))\n",
    "i=p*q*n/100\n",
    "print(\"enter simple interest:\",i)"
   ]
  },
  {
   "cell_type": "code",
   "execution_count": null,
   "id": "7ffb763f",
   "metadata": {},
   "outputs": [],
   "source": []
  }
 ],
 "metadata": {
  "kernelspec": {
   "display_name": "Python 3 (ipykernel)",
   "language": "python",
   "name": "python3"
  },
  "language_info": {
   "codemirror_mode": {
    "name": "ipython",
    "version": 3
   },
   "file_extension": ".py",
   "mimetype": "text/x-python",
   "name": "python",
   "nbconvert_exporter": "python",
   "pygments_lexer": "ipython3",
   "version": "3.10.12"
  }
 },
 "nbformat": 4,
 "nbformat_minor": 5
}
