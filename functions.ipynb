{
 "cells": [
  {
   "cell_type": "code",
   "execution_count": 5,
   "id": "f442a813",
   "metadata": {},
   "outputs": [
    {
     "name": "stdout",
     "output_type": "stream",
     "text": [
      "Enter First Year:2020\n",
      "Enter Second Year:2030\n",
      "Leap year between 2020 and 2030 :\n",
      "2020\n",
      "2024\n",
      "2028\n"
     ]
    }
   ],
   "source": [
    "def leap(l,u):\n",
    "    print(\"Leap year between\",l,\"and\",u,\":\")\n",
    "    for i in range(l,u+1):\n",
    "        if(i%4==0)and(i%100!=0)or(i%400==0):\n",
    "           print(i)\n",
    "a=int(input(\"Enter First Year:\"))\n",
    "b=int(input(\"Enter Second Year:\"))\n",
    "leap(a,b)\n",
    "        "
   ]
  },
  {
   "cell_type": "code",
   "execution_count": 32,
   "id": "224b7e2e",
   "metadata": {},
   "outputs": [
    {
     "name": "stdout",
     "output_type": "stream",
     "text": [
      "1.Square\n",
      "2.Rectangle\n",
      "3.Triangle\n",
      "4.Exit\n",
      "Enter your choice:1\n",
      "Enter Side:3\n",
      "Area of square: 9\n",
      "1.Square\n",
      "2.Rectangle\n",
      "3.Triangle\n",
      "4.Exit\n",
      "Enter your choice:2\n",
      "Enter length:5\n",
      "Enter breadth:4\n",
      "Area of Rectangle: 20\n",
      "1.Square\n",
      "2.Rectangle\n",
      "3.Triangle\n",
      "4.Exit\n",
      "Enter your choice:3\n",
      "Enter breadth:6\n",
      "Enter height:10\n",
      "Area of Triangle: 30.0\n",
      "1.Square\n",
      "2.Rectangle\n",
      "3.Triangle\n",
      "4.Exit\n",
      "Enter your choice:4\n",
      "Exiting.....\n"
     ]
    }
   ],
   "source": [
    "sqr=lambda a:a*a\n",
    "rect=lambda l,b:l*b\n",
    "tri=lambda b,h:(b*h)/2\n",
    "while(1):\n",
    "    print(\"1.Square\\n2.Rectangle\\n3.Triangle\\n4.Exit\")\n",
    "    ch=int(input(\"Enter your choice:\"))\n",
    "    if(ch==1):\n",
    "        a=int(input(\"Enter Side:\"))\n",
    "        print(\"Area of square:\",sqr(a))\n",
    "    elif(ch==2):\n",
    "            l=int(input(\"Enter length:\"))\n",
    "            b=int(input(\"Enter breadth:\"))\n",
    "            print(\"Area of Rectangle:\",rect(l,b))\n",
    "    elif(ch==3):\n",
    "                b=int(input(\"Enter breadth:\"))\n",
    "                h=int(input(\"Enter height:\"))\n",
    "                print(\"Area of Triangle:\",tri(b,h))\n",
    "    else:\n",
    "                    print(\"Exiting.....\")\n",
    "                    break"
   ]
  },
  {
   "cell_type": "code",
   "execution_count": 64,
   "id": "ecde52b4",
   "metadata": {},
   "outputs": [
    {
     "name": "stdout",
     "output_type": "stream",
     "text": [
      "Enter 4 digit lower range:1234\n",
      "Enter 4 digit upper range:9000\n",
      "list: [4624, 6084, 6400, 8464]\n"
     ]
    }
   ],
   "source": [
    "import math\n",
    "n1=int(input(\"Enter 4 digit lower range:\"))\n",
    "n2=int(input(\"Enter 4 digit upper range:\"))\n",
    "I=[]\n",
    "x=0\n",
    "for i in range(n1,n2):\n",
    "    x=i\n",
    "    while(x!=0):\n",
    "        k1=x%10\n",
    "        x=int(x/10)\n",
    "        k2=x%10\n",
    "        x=int(x/10)\n",
    "        k3=x%10\n",
    "        x=int(x/10)\n",
    "        k4=x%10\n",
    "        x=int(x/10)\n",
    "        sq=int(math.sqrt(i))\n",
    "        if(sq*sq==i):\n",
    "            if(k1%2==0 and k2%2==0 and k3%2==0 and k4%2==0):\n",
    "                I.append(i)\n",
    "print(\"list:\",I)"
   ]
  },
  {
   "cell_type": "code",
   "execution_count": 61,
   "id": "a4bcbfc1",
   "metadata": {},
   "outputs": [
    {
     "name": "stdout",
     "output_type": "stream",
     "text": [
      "Enter a word:engineering\n",
      "New word: engineeringly\n"
     ]
    }
   ],
   "source": [
    "word=input(\"Enter a word:\")\n",
    "str1=word[-3:]\n",
    "if str1=='ing':\n",
    "    word=word+'ly'\n",
    "else:\n",
    "    word=word+'ing'\n",
    "print(\"New word:\",word)"
   ]
  },
  {
   "cell_type": "code",
   "execution_count": 65,
   "id": "1252a2ae",
   "metadata": {},
   "outputs": [
    {
     "name": "stdout",
     "output_type": "stream",
     "text": [
      "Enter a list of words with comma seperated:ab,abc,abcd\n",
      "Lemgth of longest word: 4\n"
     ]
    }
   ],
   "source": [
    "l1=[]\n",
    "l=list(map(str,input(\"Enter a list of words with comma seperated:\").split(\",\")))\n",
    "for i in l:\n",
    "    l1.append(len(i))\n",
    "print(\"Lemgth of longest word:\",max(l1))"
   ]
  },
  {
   "cell_type": "code",
   "execution_count": null,
   "id": "03a60ebf",
   "metadata": {},
   "outputs": [],
   "source": []
  }
 ],
 "metadata": {
  "kernelspec": {
   "display_name": "Python 3 (ipykernel)",
   "language": "python",
   "name": "python3"
  },
  "language_info": {
   "codemirror_mode": {
    "name": "ipython",
    "version": 3
   },
   "file_extension": ".py",
   "mimetype": "text/x-python",
   "name": "python",
   "nbconvert_exporter": "python",
   "pygments_lexer": "ipython3",
   "version": "3.11.5"
  }
 },
 "nbformat": 4,
 "nbformat_minor": 5
}
