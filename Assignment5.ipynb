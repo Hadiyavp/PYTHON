{
 "cells": [
  {
   "cell_type": "code",
   "execution_count": 5,
   "id": "7b0ea9ee",
   "metadata": {},
   "outputs": [
    {
     "name": "stdout",
     "output_type": "stream",
     "text": [
      "enter the number:-15\n",
      "the given number is negative\n"
     ]
    }
   ],
   "source": [
    "#positive negative or zero\n",
    "n=int(input(\"enter the number:\"))\n",
    "if(n>0):\n",
    "    print(\"the given number is positive\")\n",
    "elif (n==0):\n",
    "    print(\"the given number is zero\")\n",
    "else:\n",
    "    print(\"the given number is negative\")"
   ]
  },
  {
   "cell_type": "code",
   "execution_count": 6,
   "id": "23e73532",
   "metadata": {},
   "outputs": [
    {
     "name": "stdout",
     "output_type": "stream",
     "text": [
      "enter first number:20\n",
      "enter second number:35\n",
      "enter third number:23\n",
      "greatest number: 35\n"
     ]
    }
   ],
   "source": [
    "#greatest of 3 numbers\n",
    "a=int(input(\"enter first number:\"))\n",
    "b=int(input(\"enter second number:\"))\n",
    "c=int(input(\"enter third number:\"))\n",
    "if(a>b and a>c):\n",
    "    print(\"greatest number:\",a)\n",
    "elif(b>c and b>a):\n",
    "    print(\"greatest number:\",b)\n",
    "else:\n",
    "    print(\"greatest number :\",c)\n"
   ]
  },
  {
   "cell_type": "code",
   "execution_count": 9,
   "id": "c6f06fc8",
   "metadata": {},
   "outputs": [
    {
     "name": "stdout",
     "output_type": "stream",
     "text": [
      "enter the first number:10\n",
      "enter the second number:20\n",
      "enter your choice:\n",
      "1.Addition\n",
      "2.Substraction\n",
      "3.Multiplication\n",
      "4.Division\n",
      "enter your choice:1\n",
      "result= 30\n"
     ]
    }
   ],
   "source": [
    "#simple calculator\n",
    "a=float(input(\"enter the first number:\"))\n",
    "b=float(input(\"enter the second number:\"))\n",
    "print(\"enter your choice:\")\n",
    "print(\"1.Addition\")\n",
    "print(\"2.Substraction\")\n",
    "print(\"3.Multiplication\")\n",
    "print(\"4.Division\")\n",
    "choice=float(input(\"enter your choice:\"))\n",
    "if(choice==1):\n",
    "            print(\"result=\",round(a+b))\n",
    "elif(choice==2):\n",
    "               print(\"result=\",round(a-b))\n",
    "elif(choice==3):\n",
    "               print(\"result=\",round(a*b))\n",
    "elif(choice==4):\n",
    "             print(\"result=\",round(a/b))\n",
    "else:\n",
    "             print(\"invalid\")"
   ]
  },
  {
   "cell_type": "code",
   "execution_count": null,
   "id": "7a903ae8",
   "metadata": {},
   "outputs": [],
   "source": []
  },
  {
   "cell_type": "code",
   "execution_count": null,
   "id": "82c40d16",
   "metadata": {},
   "outputs": [],
   "source": []
  }
 ],
 "metadata": {
  "kernelspec": {
   "display_name": "Python 3 (ipykernel)",
   "language": "python",
   "name": "python3"
  },
  "language_info": {
   "codemirror_mode": {
    "name": "ipython",
    "version": 3
   },
   "file_extension": ".py",
   "mimetype": "text/x-python",
   "name": "python",
   "nbconvert_exporter": "python",
   "pygments_lexer": "ipython3",
   "version": "3.10.12"
  }
 },
 "nbformat": 4,
 "nbformat_minor": 5
}
