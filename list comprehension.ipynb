{
 "cells": [
  {
   "cell_type": "code",
   "execution_count": 1,
   "id": "fbd848b9",
   "metadata": {},
   "outputs": [
    {
     "name": "stdout",
     "output_type": "stream",
     "text": [
      "['apple', 'banana', 'mango']\n"
     ]
    }
   ],
   "source": [
    "fruits=[\"apple\",\"banana\",\"cherry\",\"kiwi\",\"mango\"]\n",
    "newlist=[]\n",
    "for x in fruits:\n",
    "     if \"a\" in x:\n",
    "            newlist.append(x)\n",
    "print(newlist)            "
   ]
  },
  {
   "cell_type": "code",
   "execution_count": 2,
   "id": "0023f2c8",
   "metadata": {},
   "outputs": [
    {
     "name": "stdout",
     "output_type": "stream",
     "text": [
      "[1, 3, 5, 7, 9, 11]\n"
     ]
    }
   ],
   "source": [
    "#odd number\n",
    "newlist=[x for x in range(1,12,2)]\n",
    "print(newlist)"
   ]
  },
  {
   "cell_type": "code",
   "execution_count": 3,
   "id": "0c67df9b",
   "metadata": {},
   "outputs": [
    {
     "name": "stdout",
     "output_type": "stream",
     "text": [
      "[2, 4, 6, 8, 10]\n"
     ]
    }
   ],
   "source": [
    "#even number\n",
    "newlist=[x for x in range(2,11,2)]\n",
    "print(newlist)"
   ]
  },
  {
   "cell_type": "code",
   "execution_count": 5,
   "id": "28f35e39",
   "metadata": {},
   "outputs": [
    {
     "name": "stdout",
     "output_type": "stream",
     "text": [
      "[0, 1, 2, 3, 4, 5, 6, 7, 8, 9]\n"
     ]
    }
   ],
   "source": [
    "newlist=[x for x in range(10)]\n",
    "print(newlist)"
   ]
  },
  {
   "cell_type": "code",
   "execution_count": 1,
   "id": "56800903",
   "metadata": {},
   "outputs": [
    {
     "name": "stdout",
     "output_type": "stream",
     "text": [
      "list items= [11, 22, 31, 44, 51, 66]\n",
      "list items after removing even numbers: [11, 31, 51]\n"
     ]
    }
   ],
   "source": [
    "list=[11,22,31,44,51,66]\n",
    "print(\"list items=\",list)\n",
    "for i in list:\n",
    "    if(i%2==0):\n",
    "        list.remove(i)\n",
    "print(\"list items after removing even numbers:\",list)        "
   ]
  },
  {
   "cell_type": "code",
   "execution_count": 8,
   "id": "1a976f7f",
   "metadata": {},
   "outputs": [
    {
     "name": "stdout",
     "output_type": "stream",
     "text": [
      "first list is: {'blue', 'yellow', 'red'}\n",
      "second list is: {'yellow', 'green'}\n",
      "new list is: {'blue', 'red'}\n"
     ]
    }
   ],
   "source": [
    "l1=set([\"yellow\",\"red\",\"blue\"])\n",
    "l2=set([\"yellow\",\"green\"])\n",
    "print(\"first list is:\",l1)\n",
    "print(\"second list is:\",l2)\n",
    "l3=l1.difference(l2)\n",
    "print(\"new list is:\",l3)"
   ]
  },
  {
   "cell_type": "code",
   "execution_count": 15,
   "id": "70e5625d",
   "metadata": {},
   "outputs": [
    {
     "name": "stdout",
     "output_type": "stream",
     "text": [
      "names: ['nadhu', 'neena', 'naina', 'anu']\n",
      "occurrence of a is: 0\n"
     ]
    }
   ],
   "source": [
    "names=[\"nadhu\",\"neena\",\"naina\",\"anu\"]\n",
    "print(\"names:\",names)\n",
    "count=0\n",
    "for n in names:\n",
    "    count+=names.count('a')\n",
    "print(\"occurrence of a is:\",count)"
   ]
  },
  {
   "cell_type": "code",
   "execution_count": 16,
   "id": "39998a5c",
   "metadata": {},
   "outputs": [
    {
     "name": "stdout",
     "output_type": "stream",
     "text": [
      "enter an integer('enter stop to stop'):1\n",
      "enter an integer('enter stop to stop'):12\n",
      "enter an integer('enter stop to stop'):100\n",
      "enter an integer('enter stop to stop'):1010\n",
      "enter an integer('enter stop to stop'):7000\n",
      "enter an integer('enter stop to stop'):stop\n",
      "[1, 12, 100, 'over', 'over']\n"
     ]
    }
   ],
   "source": [
    "values=[]\n",
    "while True:\n",
    "    value=input(\"enter an integer('enter stop to stop'):\")\n",
    "    if value == 'stop':\n",
    "        break\n",
    "    elif int(value)>100:\n",
    "         values.append('over')\n",
    "    else:\n",
    "        values.append(int(value))\n",
    "print(values)"
   ]
  },
  {
   "cell_type": "code",
   "execution_count": null,
   "id": "b5113c46",
   "metadata": {},
   "outputs": [],
   "source": []
  }
 ],
 "metadata": {
  "kernelspec": {
   "display_name": "Python 3 (ipykernel)",
   "language": "python",
   "name": "python3"
  },
  "language_info": {
   "codemirror_mode": {
    "name": "ipython",
    "version": 3
   },
   "file_extension": ".py",
   "mimetype": "text/x-python",
   "name": "python",
   "nbconvert_exporter": "python",
   "pygments_lexer": "ipython3",
   "version": "3.11.5"
  }
 },
 "nbformat": 4,
 "nbformat_minor": 5
}
