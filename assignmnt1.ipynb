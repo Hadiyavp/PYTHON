{
 "cells": [
  {
   "cell_type": "code",
   "execution_count": 4,
   "id": "1e53601d",
   "metadata": {},
   "outputs": [
    {
     "name": "stdout",
     "output_type": "stream",
     "text": [
      "enter the side:3\n",
      "area of the square= 9\n"
     ]
    }
   ],
   "source": [
    "a=int(input(\"enter the side:\"))\n",
    "area=a*a\n",
    "print(\"area of the square=\",area)"
   ]
  },
  {
   "cell_type": "code",
   "execution_count": 6,
   "id": "44c5b142",
   "metadata": {},
   "outputs": [
    {
     "name": "stdout",
     "output_type": "stream",
     "text": [
      "enter the base of triangle:8\n",
      "enter the height of the triangle:12\n",
      "area of the right angled triangle= 48.0\n"
     ]
    }
   ],
   "source": [
    "p=int(input(\"enter the base of triangle:\"))\n",
    "q=int(input(\"enter the height of the triangle:\"))\n",
    "area=(p*q)/2\n",
    "print(\"area of the right angled triangle=\",area)"
   ]
  },
  {
   "cell_type": "code",
   "execution_count": 7,
   "id": "a8482d3e",
   "metadata": {},
   "outputs": [
    {
     "name": "stdout",
     "output_type": "stream",
     "text": [
      "enter the value of num:10\n",
      "previous= 9\n",
      "next= 11\n"
     ]
    }
   ],
   "source": [
    "num=int(input(\"enter the value of num:\"))\n",
    "print(\"previous=\",num-1)\n",
    "print(\"next=\",num+1)"
   ]
  },
  {
   "cell_type": "code",
   "execution_count": null,
   "id": "fa9dfcd8",
   "metadata": {},
   "outputs": [],
   "source": []
  }
 ],
 "metadata": {
  "kernelspec": {
   "display_name": "Python 3 (ipykernel)",
   "language": "python",
   "name": "python3"
  },
  "language_info": {
   "codemirror_mode": {
    "name": "ipython",
    "version": 3
   },
   "file_extension": ".py",
   "mimetype": "text/x-python",
   "name": "python",
   "nbconvert_exporter": "python",
   "pygments_lexer": "ipython3",
   "version": "3.10.12"
  }
 },
 "nbformat": 4,
 "nbformat_minor": 5
}
