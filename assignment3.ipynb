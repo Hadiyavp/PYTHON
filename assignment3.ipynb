{
 "cells": [
  {
   "cell_type": "code",
   "execution_count": 1,
   "id": "a5938ea2",
   "metadata": {},
   "outputs": [
    {
     "name": "stdout",
     "output_type": "stream",
     "text": [
      "Enter your string:apple\n",
      "The resultant string is: eppla\n"
     ]
    }
   ],
   "source": [
    "#exchange the first and last character\n",
    "s=str(input(\"Enter your string:\"))\n",
    "a=s[0]\n",
    "b=s[-1]\n",
    "print(\"The resultant string is:\",b+s[1:-1]+a)\n"
   ]
  },
  {
   "cell_type": "code",
   "execution_count": 8,
   "id": "a3e95459",
   "metadata": {},
   "outputs": [
    {
     "name": "stdout",
     "output_type": "stream",
     "text": [
      "Enter the string:Apple\n",
      "The resultant string is: Aple\n"
     ]
    }
   ],
   "source": [
    "#first and last character interchange\n",
    "s=str(input(\"Enter the string:\"))\n",
    "a=s[0:2]\n",
    "b=s[-2:]\n",
    "print(\"The resultant string is:\",a+s[-2:])"
   ]
  },
  {
   "cell_type": "code",
   "execution_count": 14,
   "id": "c9678319",
   "metadata": {},
   "outputs": [
    {
     "name": "stdout",
     "output_type": "stream",
     "text": [
      "Enter the first string:hello\n",
      "Enter the second string:world\n",
      "The resulting string is: wollo  herld\n"
     ]
    }
   ],
   "source": [
    "#swap first two characters of two string\n",
    "s1=str(input(\"Enter the first string:\"))\n",
    "s2=str(input(\"Enter the second string:\"))\n",
    "a=s1[0:2]\n",
    "b=s2[0:2]\n",
    "print(\"The resulting string is:\",b+s1[2:],\"\",a+s2[2:])"
   ]
  },
  {
   "cell_type": "code",
   "execution_count": 13,
   "id": "eef26b50",
   "metadata": {},
   "outputs": [
    {
     "name": "stdout",
     "output_type": "stream",
     "text": [
      "Enter the string:onion\n",
      "New string is oni$n\n"
     ]
    }
   ],
   "source": [
    "#replace occurance of first charachter\n",
    "s=str(input(\"Enter the string:\"))\n",
    "a=s[0]\n",
    "b=s[1:]\n",
    "st=b.replace(\"o\",\"$\")\n",
    "sn=s[0]+st\n",
    "print(\"New string is\",sn)"
   ]
  },
  {
   "cell_type": "code",
   "execution_count": null,
   "id": "19b6c535",
   "metadata": {},
   "outputs": [],
   "source": []
  },
  {
   "cell_type": "code",
   "execution_count": null,
   "id": "a7f22fa3",
   "metadata": {},
   "outputs": [],
   "source": []
  }
 ],
 "metadata": {
  "kernelspec": {
   "display_name": "Python 3 (ipykernel)",
   "language": "python",
   "name": "python3"
  },
  "language_info": {
   "codemirror_mode": {
    "name": "ipython",
    "version": 3
   },
   "file_extension": ".py",
   "mimetype": "text/x-python",
   "name": "python",
   "nbconvert_exporter": "python",
   "pygments_lexer": "ipython3",
   "version": "3.10.12"
  }
 },
 "nbformat": 4,
 "nbformat_minor": 5
}
